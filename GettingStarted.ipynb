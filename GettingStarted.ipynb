{
  "nbformat": 4,
  "nbformat_minor": 0,
  "metadata": {
    "kernelspec": {
      "display_name": "Python 3",
      "language": "python",
      "name": "python3"
    },
    "language_info": {
      "codemirror_mode": {
        "name": "ipython",
        "version": 3
      },
      "file_extension": ".py",
      "mimetype": "text/x-python",
      "name": "python",
      "nbconvert_exporter": "python",
      "pygments_lexer": "ipython3",
      "version": "3.8.5"
    },
    "colab": {
      "name": "GettingStarted.ipynb",
      "provenance": [],
      "collapsed_sections": []
    }
  },
  "cells": [
    {
      "cell_type": "markdown",
      "metadata": {
        "id": "BVEcpTe1RF4u"
      },
      "source": [
        "### Download and unzip dataset"
      ]
    },
    {
      "cell_type": "code",
      "metadata": {
        "scrolled": true,
        "colab": {
          "base_uri": "https://localhost:8080/"
        },
        "id": "Z89k9I2aRF42",
        "outputId": "dabea071-42e3-4bf9-9153-1fa02c7dcfe4"
      },
      "source": [
        "!wget https://neovision-public.s3.eu-west-3.amazonaws.com/data_ia/public_data.zip"
      ],
      "execution_count": null,
      "outputs": [
        {
          "output_type": "stream",
          "text": [
            "--2021-02-02 16:05:59--  https://neovision-public.s3.eu-west-3.amazonaws.com/data_ia/public_data.zip\n",
            "Resolving neovision-public.s3.eu-west-3.amazonaws.com (neovision-public.s3.eu-west-3.amazonaws.com)... 52.95.156.20\n",
            "Connecting to neovision-public.s3.eu-west-3.amazonaws.com (neovision-public.s3.eu-west-3.amazonaws.com)|52.95.156.20|:443... connected.\n",
            "HTTP request sent, awaiting response... 200 OK\n",
            "Length: 62451887 (60M) [application/zip]\n",
            "Saving to: ‘public_data.zip’\n",
            "\n",
            "public_data.zip     100%[===================>]  59.56M  16.5MB/s    in 3.6s    \n",
            "\n",
            "2021-02-02 16:06:03 (16.5 MB/s) - ‘public_data.zip’ saved [62451887/62451887]\n",
            "\n"
          ],
          "name": "stdout"
        }
      ]
    },
    {
      "cell_type": "code",
      "metadata": {
        "id": "_DmJrQ8_RF46"
      },
      "source": [
        "!mkdir data"
      ],
      "execution_count": null,
      "outputs": []
    },
    {
      "cell_type": "code",
      "metadata": {
        "id": "usFX02BiRF48"
      },
      "source": [
        "!unzip -q public_data.zip -d ./data"
      ],
      "execution_count": null,
      "outputs": []
    },
    {
      "cell_type": "markdown",
      "metadata": {
        "id": "sa5uOyrmRF4-"
      },
      "source": [
        "### Read the .csv annotation file "
      ]
    },
    {
      "cell_type": "code",
      "metadata": {
        "id": "RrcAmur6RF5A"
      },
      "source": [
        "import pandas as pd"
      ],
      "execution_count": null,
      "outputs": []
    },
    {
      "cell_type": "code",
      "metadata": {
        "id": "TERquQuMRF5B"
      },
      "source": [
        "DATA_DIR = './data/'"
      ],
      "execution_count": null,
      "outputs": []
    },
    {
      "cell_type": "code",
      "metadata": {
        "colab": {
          "base_uri": "https://localhost:8080/",
          "height": 419
        },
        "id": "1X7rTSh6RF5E",
        "outputId": "35b7ab1f-0bcc-4728-e1d8-da32da220484"
      },
      "source": [
        "train_df = pd.read_csv(f'{DATA_DIR}train.csv')\n",
        "train_df"
      ],
      "execution_count": null,
      "outputs": [
        {
          "output_type": "execute_result",
          "data": {
            "text/html": [
              "<div>\n",
              "<style scoped>\n",
              "    .dataframe tbody tr th:only-of-type {\n",
              "        vertical-align: middle;\n",
              "    }\n",
              "\n",
              "    .dataframe tbody tr th {\n",
              "        vertical-align: top;\n",
              "    }\n",
              "\n",
              "    .dataframe thead th {\n",
              "        text-align: right;\n",
              "    }\n",
              "</style>\n",
              "<table border=\"1\" class=\"dataframe\">\n",
              "  <thead>\n",
              "    <tr style=\"text-align: right;\">\n",
              "      <th></th>\n",
              "      <th>index</th>\n",
              "      <th>image</th>\n",
              "      <th>mask</th>\n",
              "      <th>char</th>\n",
              "    </tr>\n",
              "  </thead>\n",
              "  <tbody>\n",
              "    <tr>\n",
              "      <th>0</th>\n",
              "      <td>0</td>\n",
              "      <td>train/00000.image.jpg</td>\n",
              "      <td>train/00000.mask.jpg</td>\n",
              "      <td>7</td>\n",
              "    </tr>\n",
              "    <tr>\n",
              "      <th>1</th>\n",
              "      <td>1</td>\n",
              "      <td>train/00001.image.jpg</td>\n",
              "      <td>train/00001.mask.jpg</td>\n",
              "      <td>y</td>\n",
              "    </tr>\n",
              "    <tr>\n",
              "      <th>2</th>\n",
              "      <td>2</td>\n",
              "      <td>train/00002.image.jpg</td>\n",
              "      <td>train/00002.mask.jpg</td>\n",
              "      <td>w</td>\n",
              "    </tr>\n",
              "    <tr>\n",
              "      <th>3</th>\n",
              "      <td>3</td>\n",
              "      <td>train/00003.image.jpg</td>\n",
              "      <td>train/00003.mask.jpg</td>\n",
              "      <td>j</td>\n",
              "    </tr>\n",
              "    <tr>\n",
              "      <th>4</th>\n",
              "      <td>4</td>\n",
              "      <td>train/00004.image.jpg</td>\n",
              "      <td>train/00004.mask.jpg</td>\n",
              "      <td>l</td>\n",
              "    </tr>\n",
              "    <tr>\n",
              "      <th>...</th>\n",
              "      <td>...</td>\n",
              "      <td>...</td>\n",
              "      <td>...</td>\n",
              "      <td>...</td>\n",
              "    </tr>\n",
              "    <tr>\n",
              "      <th>6995</th>\n",
              "      <td>6995</td>\n",
              "      <td>train/06995.image.jpg</td>\n",
              "      <td>train/06995.mask.jpg</td>\n",
              "      <td>u</td>\n",
              "    </tr>\n",
              "    <tr>\n",
              "      <th>6996</th>\n",
              "      <td>6996</td>\n",
              "      <td>train/06996.image.jpg</td>\n",
              "      <td>train/06996.mask.jpg</td>\n",
              "      <td>z</td>\n",
              "    </tr>\n",
              "    <tr>\n",
              "      <th>6997</th>\n",
              "      <td>6997</td>\n",
              "      <td>train/06997.image.jpg</td>\n",
              "      <td>train/06997.mask.jpg</td>\n",
              "      <td>c</td>\n",
              "    </tr>\n",
              "    <tr>\n",
              "      <th>6998</th>\n",
              "      <td>6998</td>\n",
              "      <td>train/06998.image.jpg</td>\n",
              "      <td>train/06998.mask.jpg</td>\n",
              "      <td>h</td>\n",
              "    </tr>\n",
              "    <tr>\n",
              "      <th>6999</th>\n",
              "      <td>6999</td>\n",
              "      <td>train/06999.image.jpg</td>\n",
              "      <td>train/06999.mask.jpg</td>\n",
              "      <td>1</td>\n",
              "    </tr>\n",
              "  </tbody>\n",
              "</table>\n",
              "<p>7000 rows × 4 columns</p>\n",
              "</div>"
            ],
            "text/plain": [
              "      index                  image                  mask char\n",
              "0         0  train/00000.image.jpg  train/00000.mask.jpg    7\n",
              "1         1  train/00001.image.jpg  train/00001.mask.jpg    y\n",
              "2         2  train/00002.image.jpg  train/00002.mask.jpg    w\n",
              "3         3  train/00003.image.jpg  train/00003.mask.jpg    j\n",
              "4         4  train/00004.image.jpg  train/00004.mask.jpg    l\n",
              "...     ...                    ...                   ...  ...\n",
              "6995   6995  train/06995.image.jpg  train/06995.mask.jpg    u\n",
              "6996   6996  train/06996.image.jpg  train/06996.mask.jpg    z\n",
              "6997   6997  train/06997.image.jpg  train/06997.mask.jpg    c\n",
              "6998   6998  train/06998.image.jpg  train/06998.mask.jpg    h\n",
              "6999   6999  train/06999.image.jpg  train/06999.mask.jpg    1\n",
              "\n",
              "[7000 rows x 4 columns]"
            ]
          },
          "metadata": {
            "tags": []
          },
          "execution_count": 6
        }
      ]
    },
    {
      "cell_type": "code",
      "metadata": {
        "colab": {
          "base_uri": "https://localhost:8080/",
          "height": 419
        },
        "id": "PjbuVr5SRF5G",
        "outputId": "3639fc5d-078b-4000-f6aa-f3a05c1343b4"
      },
      "source": [
        "test_df = pd.read_csv(f'{DATA_DIR}test.csv')\n",
        "test_df"
      ],
      "execution_count": null,
      "outputs": [
        {
          "output_type": "execute_result",
          "data": {
            "text/html": [
              "<div>\n",
              "<style scoped>\n",
              "    .dataframe tbody tr th:only-of-type {\n",
              "        vertical-align: middle;\n",
              "    }\n",
              "\n",
              "    .dataframe tbody tr th {\n",
              "        vertical-align: top;\n",
              "    }\n",
              "\n",
              "    .dataframe thead th {\n",
              "        text-align: right;\n",
              "    }\n",
              "</style>\n",
              "<table border=\"1\" class=\"dataframe\">\n",
              "  <thead>\n",
              "    <tr style=\"text-align: right;\">\n",
              "      <th></th>\n",
              "      <th>index</th>\n",
              "      <th>image</th>\n",
              "    </tr>\n",
              "  </thead>\n",
              "  <tbody>\n",
              "    <tr>\n",
              "      <th>0</th>\n",
              "      <td>7000</td>\n",
              "      <td>test/07000.image.jpg</td>\n",
              "    </tr>\n",
              "    <tr>\n",
              "      <th>1</th>\n",
              "      <td>7001</td>\n",
              "      <td>test/07001.image.jpg</td>\n",
              "    </tr>\n",
              "    <tr>\n",
              "      <th>2</th>\n",
              "      <td>7002</td>\n",
              "      <td>test/07002.image.jpg</td>\n",
              "    </tr>\n",
              "    <tr>\n",
              "      <th>3</th>\n",
              "      <td>7003</td>\n",
              "      <td>test/07003.image.jpg</td>\n",
              "    </tr>\n",
              "    <tr>\n",
              "      <th>4</th>\n",
              "      <td>7004</td>\n",
              "      <td>test/07004.image.jpg</td>\n",
              "    </tr>\n",
              "    <tr>\n",
              "      <th>...</th>\n",
              "      <td>...</td>\n",
              "      <td>...</td>\n",
              "    </tr>\n",
              "    <tr>\n",
              "      <th>2995</th>\n",
              "      <td>9995</td>\n",
              "      <td>test/09995.image.jpg</td>\n",
              "    </tr>\n",
              "    <tr>\n",
              "      <th>2996</th>\n",
              "      <td>9996</td>\n",
              "      <td>test/09996.image.jpg</td>\n",
              "    </tr>\n",
              "    <tr>\n",
              "      <th>2997</th>\n",
              "      <td>9997</td>\n",
              "      <td>test/09997.image.jpg</td>\n",
              "    </tr>\n",
              "    <tr>\n",
              "      <th>2998</th>\n",
              "      <td>9998</td>\n",
              "      <td>test/09998.image.jpg</td>\n",
              "    </tr>\n",
              "    <tr>\n",
              "      <th>2999</th>\n",
              "      <td>9999</td>\n",
              "      <td>test/09999.image.jpg</td>\n",
              "    </tr>\n",
              "  </tbody>\n",
              "</table>\n",
              "<p>3000 rows × 2 columns</p>\n",
              "</div>"
            ],
            "text/plain": [
              "      index                 image\n",
              "0      7000  test/07000.image.jpg\n",
              "1      7001  test/07001.image.jpg\n",
              "2      7002  test/07002.image.jpg\n",
              "3      7003  test/07003.image.jpg\n",
              "4      7004  test/07004.image.jpg\n",
              "...     ...                   ...\n",
              "2995   9995  test/09995.image.jpg\n",
              "2996   9996  test/09996.image.jpg\n",
              "2997   9997  test/09997.image.jpg\n",
              "2998   9998  test/09998.image.jpg\n",
              "2999   9999  test/09999.image.jpg\n",
              "\n",
              "[3000 rows x 2 columns]"
            ]
          },
          "metadata": {
            "tags": []
          },
          "execution_count": 7
        }
      ]
    },
    {
      "cell_type": "markdown",
      "metadata": {
        "id": "-M6PKFXcRF5J"
      },
      "source": [
        "### Show a random sample"
      ]
    },
    {
      "cell_type": "markdown",
      "metadata": {
        "id": "ONzWyDyaUWsx"
      },
      "source": [
        "Let's start by loading a random image as a numpy array using the pillow library (PIL) and display it using matplotlib."
      ]
    },
    {
      "cell_type": "code",
      "metadata": {
        "id": "B_NxAvaCRF5L"
      },
      "source": [
        "from PIL import Image\n",
        "from random import randint\n",
        "from matplotlib import pyplot as plt"
      ],
      "execution_count": null,
      "outputs": []
    },
    {
      "cell_type": "code",
      "metadata": {
        "id": "O6g2VLmWRF5M"
      },
      "source": [
        "def get_random_sample(file):        \n",
        "    n_rows = file.shape[0]\n",
        "    rindx  = randint(0, n_rows)\n",
        "    sample = file.loc[rindx]    \n",
        "    indx   = sample['index']\n",
        "    img    = Image.open(DATA_DIR + sample['image'])\n",
        "    \n",
        "    if 'mask' in file.columns:\n",
        "        mask = Image.open(DATA_DIR + sample['mask'])\n",
        "        char = sample['char']\n",
        "    else: \n",
        "        mask, char = None, '?'\n",
        "    \n",
        "    return {'index': indx,'image': img, 'mask': mask, 'char': char}"
      ],
      "execution_count": null,
      "outputs": []
    },
    {
      "cell_type": "code",
      "metadata": {
        "id": "E5MH5W3PRF5O"
      },
      "source": [
        "def plot_sample(sample):\n",
        "    plt.figure(figsize=(7, 7))\n",
        "    plt.subplot(121)\n",
        "    \n",
        "    plt.title(f\"Image: {sample['char']}\")\n",
        "    plt.axis('off')\n",
        "    plt.imshow(sample['image'])\n",
        "    \n",
        "    if sample['mask']:\n",
        "        plt.subplot(122)\n",
        "        plt.title('Mask')\n",
        "        plt.axis('off')\n",
        "        plt.imshow(sample['mask'])"
      ],
      "execution_count": null,
      "outputs": []
    },
    {
      "cell_type": "markdown",
      "metadata": {
        "id": "3bgdcYN3UpO8"
      },
      "source": [
        "Each training sample is composed of an image, a mask and the true character."
      ]
    },
    {
      "cell_type": "code",
      "metadata": {
        "colab": {
          "base_uri": "https://localhost:8080/",
          "height": 224
        },
        "id": "Sdk4ZM3bRF5Q",
        "outputId": "c6754a7e-74c6-4d98-9095-cbd719e7c649"
      },
      "source": [
        "sample = get_random_sample(train_df)\n",
        "plot_sample(sample)"
      ],
      "execution_count": null,
      "outputs": [
        {
          "output_type": "display_data",
          "data": {
            "image/png": "[encoded data removed]",
            "text/plain": [
              "<Figure size 504x504 with 2 Axes>"
            ]
          },
          "metadata": {
            "tags": [],
            "needs_background": "light"
          }
        }
      ]
    },
    {
      "cell_type": "markdown",
      "metadata": {
        "id": "laRvluNDU0uQ"
      },
      "source": [
        "For test samples, you only have access to the image."
      ]
    },
    {
      "cell_type": "code",
      "metadata": {
        "colab": {
          "base_uri": "https://localhost:8080/",
          "height": 224
        },
        "id": "EAe-6PF3RF5S",
        "outputId": "daf9cb55-1c97-4f6a-b8ce-80508bc05814"
      },
      "source": [
        "sample = get_random_sample(test_df)\n",
        "plot_sample(sample)"
      ],
      "execution_count": null,
      "outputs": [
        {
          "output_type": "display_data",
          "data": {
            "image/png": "[encoded data removed]",
            "text/plain": [
              "<Figure size 504x504 with 1 Axes>"
            ]
          },
          "metadata": {
            "tags": [],
            "needs_background": "light"
          }
        }
      ]
    },
    {
      "cell_type": "markdown",
      "metadata": {
        "id": "-zkrjlOLRF5V"
      },
      "source": [
        "### A first (random) model\n",
        "\n",
        "Let's start with a really simple \"model\": for each image, we sample a random character as our prediction.\n",
        "\n"
      ]
    },
    {
      "cell_type": "code",
      "metadata": {
        "id": "cKPN2JmkRF5Y"
      },
      "source": [
        "from random import choice"
      ],
      "execution_count": null,
      "outputs": []
    },
    {
      "cell_type": "code",
      "metadata": {
        "colab": {
          "base_uri": "https://localhost:8080/",
          "height": 35
        },
        "id": "tLRK4Jd5RF5a",
        "outputId": "535a3baa-d7dc-43dc-835a-3acbd358f55a"
      },
      "source": [
        "def predict(sample):\n",
        "    # Random prediction\n",
        "    classes = '0123456789abcdefghijklmnopqrstuvwxyz'\n",
        "    return choice(classes)\n",
        "\n",
        "predict(sample)"
      ],
      "execution_count": null,
      "outputs": [
        {
          "output_type": "execute_result",
          "data": {
            "application/vnd.google.colaboratory.intrinsic+json": {
              "type": "string"
            },
            "text/plain": [
              "'b'"
            ]
          },
          "metadata": {
            "tags": []
          },
          "execution_count": 14
        }
      ]
    },
    {
      "cell_type": "markdown",
      "metadata": {
        "id": "jUfiIgKWVdUA"
      },
      "source": [
        "### Evaluate this model on the training set\n",
        "\n",
        "Even if we don't have much hopes for this super simple model, let's evaluate it on the training set. For now, we don't split our training set into training and validation, but you might want to do this in the future.\n",
        "\n",
        "We start by looping over the training set to predict the character for each image."
      ]
    },
    {
      "cell_type": "code",
      "metadata": {
        "id": "ObrDBjffVssO"
      },
      "source": [
        "train_predictions = []\n",
        "for sample in train_df.itertuples():\n",
        "    result = predict(sample)\n",
        "    train_predictions.append({'index':sample.index, 'pred':result})"
      ],
      "execution_count": null,
      "outputs": []
    },
    {
      "cell_type": "code",
      "metadata": {
        "id": "lECEaL8FXDBN"
      },
      "source": [
        "train_predictions_df = pd.DataFrame.from_records(train_predictions)"
      ],
      "execution_count": null,
      "outputs": []
    },
    {
      "cell_type": "markdown",
      "metadata": {
        "id": "tsSBwmsOXM6G"
      },
      "source": [
        "We then implement the score function for the challenge, the accuracy macro-averaged over the characters."
      ]
    },
    {
      "cell_type": "code",
      "metadata": {
        "id": "RuoeRgL9XL6J"
      },
      "source": [
        "def macro_accuracy(groundtruth, predictions):\n",
        "    aligned = groundtruth.merge(predictions, how='left', on='index')\n",
        "    aligned['comparison'] = (aligned.char == aligned.pred)\n",
        "\n",
        "    macro_accuracy = aligned.groupby('char').comparison.mean().values.mean()\n",
        "\n",
        "    return macro_accuracy"
      ],
      "execution_count": null,
      "outputs": []
    },
    {
      "cell_type": "code",
      "metadata": {
        "colab": {
          "base_uri": "https://localhost:8080/"
        },
        "id": "TddEue4-Zrhl",
        "outputId": "1abf3763-76c5-48ea-b11a-dd1de2e61ecb"
      },
      "source": [
        "score = macro_accuracy(train_df, train_predictions_df)\n",
        "\n",
        "print('Accuracy (macro-average): ', score)"
      ],
      "execution_count": null,
      "outputs": [
        {
          "output_type": "stream",
          "text": [
            "Accuracy (macro-average):  0.0271633278731671\n"
          ],
          "name": "stdout"
        }
      ]
    },
    {
      "cell_type": "markdown",
      "metadata": {
        "id": "oKalKA7EVDMr"
      },
      "source": [
        "### Submit your results on the test set\n",
        "\n",
        "Now that we evaluated the model on the training set, we can prepare a submission on the test set. First, we loop over the test set to predict the characters of each image and create a predictions DataFrame."
      ]
    },
    {
      "cell_type": "code",
      "metadata": {
        "id": "SkIvlESwRF5c"
      },
      "source": [
        "test_predictions = []\n",
        "for sample in test_df.itertuples():\n",
        "    result = predict(sample)\n",
        "    test_predictions.append({'index':sample.index, 'pred':result})"
      ],
      "execution_count": null,
      "outputs": []
    },
    {
      "cell_type": "code",
      "metadata": {
        "id": "_M23e9FaRF5f"
      },
      "source": [
        "test_predictions_df = pd.DataFrame.from_records(test_predictions)"
      ],
      "execution_count": null,
      "outputs": []
    },
    {
      "cell_type": "markdown",
      "metadata": {
        "id": "q6BI4GDLSPd5"
      },
      "source": [
        "Export the dataframe to a csv file named \"test_predictions.csv\" and zip it to prepare for submission through CodaLab interface."
      ]
    },
    {
      "cell_type": "code",
      "metadata": {
        "id": "OVbVRjXJRF5g"
      },
      "source": [
        "test_predictions_df.to_csv('test_predictions.csv', index=False)"
      ],
      "execution_count": null,
      "outputs": []
    },
    {
      "cell_type": "code",
      "metadata": {
        "colab": {
          "base_uri": "https://localhost:8080/"
        },
        "id": "QhD8eGD3RF5i",
        "outputId": "1254eede-e2df-4b78-dc42-fb63f29892b1"
      },
      "source": [
        "!head test_predictions.csv"
      ],
      "execution_count": null,
      "outputs": [
        {
          "output_type": "stream",
          "text": [
            "index,pred\n",
            "7000,w\n",
            "7001,k\n",
            "7002,8\n",
            "7003,8\n",
            "7004,q\n",
            "7005,s\n",
            "7006,q\n",
            "7007,y\n",
            "7008,0\n"
          ],
          "name": "stdout"
        }
      ]
    },
    {
      "cell_type": "code",
      "metadata": {
        "colab": {
          "base_uri": "https://localhost:8080/"
        },
        "id": "SfHJlwj2RF5l",
        "outputId": "84704885-952d-4de9-a09f-ebcbd119cbc1"
      },
      "source": [
        "!zip submission.zip test_predictions.csv"
      ],
      "execution_count": null,
      "outputs": [
        {
          "output_type": "stream",
          "text": [
            "  adding: test_predictions.csv (deflated 57%)\n"
          ],
          "name": "stdout"
        }
      ]
    },
    {
      "cell_type": "markdown",
      "metadata": {
        "id": "EYRlKDLqSm44"
      },
      "source": [
        "Now you can upload this zip file through the CodaLab interface to submit your first results and get some feedback."
      ]
    }
  ]
}